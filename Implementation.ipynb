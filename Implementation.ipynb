{
  "nbformat": 4,
  "nbformat_minor": 0,
  "metadata": {
    "colab": {
      "name": "Copy of 181209+181237 M.Project",
      "provenance": [],
      "collapsed_sections": []
    },
    "kernelspec": {
      "name": "python3",
      "display_name": "Python 3"
    },
    "language_info": {
      "name": "python"
    }
  },
  "cells": [
    {
      "cell_type": "markdown",
      "metadata": {
        "id": "oY6Qo1URCvJp"
      },
      "source": [
        "# Problem Statement"
      ]
    },
    {
      "cell_type": "markdown",
      "metadata": {
        "id": "KSGTuCRxC0IT"
      },
      "source": [
        "Risk Strtification prior to PCI"
      ]
    },
    {
      "cell_type": "markdown",
      "metadata": {
        "id": "JFhbIxCJjlS9"
      },
      "source": [
        "## Importing Libraries"
      ]
    },
    {
      "cell_type": "code",
      "metadata": {
        "id": "JmIeekf2gQKy"
      },
      "source": [
        "import pandas as pd\n",
        "import matplotlib.pyplot as plt\n",
        "import numpy as np\n",
        "import seaborn as sn"
      ],
      "execution_count": 45,
      "outputs": []
    },
    {
      "cell_type": "markdown",
      "metadata": {
        "id": "dJf1WrS8jlTE"
      },
      "source": [
        "## Importing dataset"
      ]
    },
    {
      "cell_type": "code",
      "metadata": {
        "colab": {
          "base_uri": "https://localhost:8080/"
        },
        "id": "ekJjDYqPjHA2",
        "outputId": "2fdcf83d-08db-4e29-af62-9b24f5db9ec8"
      },
      "source": [
        "from google.colab import drive\n",
        "drive.mount('/content/drive')"
      ],
      "execution_count": 46,
      "outputs": [
        {
          "output_type": "stream",
          "name": "stdout",
          "text": [
            "Drive already mounted at /content/drive; to attempt to forcibly remount, call drive.mount(\"/content/drive\", force_remount=True).\n"
          ]
        }
      ]
    },
    {
      "cell_type": "code",
      "metadata": {
        "id": "YJ4YaxMtkAC9"
      },
      "source": [
        "path = '/content/drive/MyDrive/Major Project/aa_data.csv'\n",
        "df = pd.read_csv(path)"
      ],
      "execution_count": 90,
      "outputs": []
    },
    {
      "cell_type": "markdown",
      "metadata": {
        "id": "JTxATL5poWZz"
      },
      "source": [
        "Display entire data"
      ]
    },
    {
      "cell_type": "code",
      "metadata": {
        "colab": {
          "base_uri": "https://localhost:8080/",
          "height": 424
        },
        "id": "4IklrchRkmsq",
        "outputId": "c344d5c5-cf2a-427f-b75b-e4a19a4edc0f"
      },
      "source": [
        "df=df[['Age','Sex','RestingBP','Cholesterol','FastingBS','RestingECG','MaxHR','Risk_Prediction']].copy()\n",
        "df"
      ],
      "execution_count": 48,
      "outputs": [
        {
          "output_type": "execute_result",
          "data": {
            "text/html": [
              "<div>\n",
              "<style scoped>\n",
              "    .dataframe tbody tr th:only-of-type {\n",
              "        vertical-align: middle;\n",
              "    }\n",
              "\n",
              "    .dataframe tbody tr th {\n",
              "        vertical-align: top;\n",
              "    }\n",
              "\n",
              "    .dataframe thead th {\n",
              "        text-align: right;\n",
              "    }\n",
              "</style>\n",
              "<table border=\"1\" class=\"dataframe\">\n",
              "  <thead>\n",
              "    <tr style=\"text-align: right;\">\n",
              "      <th></th>\n",
              "      <th>Age</th>\n",
              "      <th>Sex</th>\n",
              "      <th>RestingBP</th>\n",
              "      <th>Cholesterol</th>\n",
              "      <th>FastingBS</th>\n",
              "      <th>RestingECG</th>\n",
              "      <th>MaxHR</th>\n",
              "      <th>Risk_Prediction</th>\n",
              "    </tr>\n",
              "  </thead>\n",
              "  <tbody>\n",
              "    <tr>\n",
              "      <th>0</th>\n",
              "      <td>40</td>\n",
              "      <td>M</td>\n",
              "      <td>140</td>\n",
              "      <td>289</td>\n",
              "      <td>0</td>\n",
              "      <td>Normal</td>\n",
              "      <td>172</td>\n",
              "      <td>0</td>\n",
              "    </tr>\n",
              "    <tr>\n",
              "      <th>1</th>\n",
              "      <td>49</td>\n",
              "      <td>F</td>\n",
              "      <td>160</td>\n",
              "      <td>180</td>\n",
              "      <td>0</td>\n",
              "      <td>Normal</td>\n",
              "      <td>156</td>\n",
              "      <td>1</td>\n",
              "    </tr>\n",
              "    <tr>\n",
              "      <th>2</th>\n",
              "      <td>37</td>\n",
              "      <td>M</td>\n",
              "      <td>130</td>\n",
              "      <td>283</td>\n",
              "      <td>0</td>\n",
              "      <td>ST</td>\n",
              "      <td>98</td>\n",
              "      <td>0</td>\n",
              "    </tr>\n",
              "    <tr>\n",
              "      <th>3</th>\n",
              "      <td>48</td>\n",
              "      <td>F</td>\n",
              "      <td>138</td>\n",
              "      <td>214</td>\n",
              "      <td>0</td>\n",
              "      <td>Normal</td>\n",
              "      <td>108</td>\n",
              "      <td>1</td>\n",
              "    </tr>\n",
              "    <tr>\n",
              "      <th>4</th>\n",
              "      <td>54</td>\n",
              "      <td>M</td>\n",
              "      <td>150</td>\n",
              "      <td>195</td>\n",
              "      <td>0</td>\n",
              "      <td>Normal</td>\n",
              "      <td>122</td>\n",
              "      <td>0</td>\n",
              "    </tr>\n",
              "    <tr>\n",
              "      <th>...</th>\n",
              "      <td>...</td>\n",
              "      <td>...</td>\n",
              "      <td>...</td>\n",
              "      <td>...</td>\n",
              "      <td>...</td>\n",
              "      <td>...</td>\n",
              "      <td>...</td>\n",
              "      <td>...</td>\n",
              "    </tr>\n",
              "    <tr>\n",
              "      <th>913</th>\n",
              "      <td>45</td>\n",
              "      <td>M</td>\n",
              "      <td>110</td>\n",
              "      <td>264</td>\n",
              "      <td>0</td>\n",
              "      <td>Normal</td>\n",
              "      <td>132</td>\n",
              "      <td>1</td>\n",
              "    </tr>\n",
              "    <tr>\n",
              "      <th>914</th>\n",
              "      <td>68</td>\n",
              "      <td>M</td>\n",
              "      <td>144</td>\n",
              "      <td>193</td>\n",
              "      <td>1</td>\n",
              "      <td>Normal</td>\n",
              "      <td>141</td>\n",
              "      <td>1</td>\n",
              "    </tr>\n",
              "    <tr>\n",
              "      <th>915</th>\n",
              "      <td>57</td>\n",
              "      <td>M</td>\n",
              "      <td>130</td>\n",
              "      <td>131</td>\n",
              "      <td>0</td>\n",
              "      <td>Normal</td>\n",
              "      <td>115</td>\n",
              "      <td>1</td>\n",
              "    </tr>\n",
              "    <tr>\n",
              "      <th>916</th>\n",
              "      <td>57</td>\n",
              "      <td>F</td>\n",
              "      <td>130</td>\n",
              "      <td>236</td>\n",
              "      <td>0</td>\n",
              "      <td>LVH</td>\n",
              "      <td>174</td>\n",
              "      <td>1</td>\n",
              "    </tr>\n",
              "    <tr>\n",
              "      <th>917</th>\n",
              "      <td>38</td>\n",
              "      <td>M</td>\n",
              "      <td>138</td>\n",
              "      <td>175</td>\n",
              "      <td>0</td>\n",
              "      <td>Normal</td>\n",
              "      <td>173</td>\n",
              "      <td>0</td>\n",
              "    </tr>\n",
              "  </tbody>\n",
              "</table>\n",
              "<p>918 rows × 8 columns</p>\n",
              "</div>"
            ],
            "text/plain": [
              "     Age Sex  RestingBP  ...  RestingECG  MaxHR Risk_Prediction\n",
              "0     40   M        140  ...      Normal    172               0\n",
              "1     49   F        160  ...      Normal    156               1\n",
              "2     37   M        130  ...          ST     98               0\n",
              "3     48   F        138  ...      Normal    108               1\n",
              "4     54   M        150  ...      Normal    122               0\n",
              "..   ...  ..        ...  ...         ...    ...             ...\n",
              "913   45   M        110  ...      Normal    132               1\n",
              "914   68   M        144  ...      Normal    141               1\n",
              "915   57   M        130  ...      Normal    115               1\n",
              "916   57   F        130  ...         LVH    174               1\n",
              "917   38   M        138  ...      Normal    173               0\n",
              "\n",
              "[918 rows x 8 columns]"
            ]
          },
          "metadata": {},
          "execution_count": 48
        }
      ]
    },
    {
      "cell_type": "markdown",
      "metadata": {
        "id": "f6OJwrq3DmEE"
      },
      "source": [
        "## Encoding Categorical Data"
      ]
    },
    {
      "cell_type": "code",
      "metadata": {
        "colab": {
          "base_uri": "https://localhost:8080/"
        },
        "id": "f1wDRWkcdtM2",
        "outputId": "7b6c8263-6d1e-4884-976a-1e2ac711f16f"
      },
      "source": [
        "# Import label encoder\n",
        "from sklearn import preprocessing\n",
        "\n",
        "# label_encoder object knows how to understand word labels.\n",
        "label_encoder = preprocessing.LabelEncoder()\n",
        "\n",
        "# Encode labels in column 'species'.\n",
        "df['RestingECG']= label_encoder.fit_transform(df['RestingECG'])\n",
        "df['RestingECG'].unique()\n"
      ],
      "execution_count": 49,
      "outputs": [
        {
          "output_type": "execute_result",
          "data": {
            "text/plain": [
              "array([1, 2, 0])"
            ]
          },
          "metadata": {},
          "execution_count": 49
        }
      ]
    },
    {
      "cell_type": "code",
      "metadata": {
        "colab": {
          "base_uri": "https://localhost:8080/"
        },
        "id": "GZLXoa2HmBaO",
        "outputId": "5f24ea72-c010-4523-e728-7b5c7ed74192"
      },
      "source": [
        "# Import label encoder\n",
        "from sklearn import preprocessing\n",
        "\n",
        "# label_encoder object knows how to understand word labels.\n",
        "label_encoder = preprocessing.LabelEncoder()\n",
        "\n",
        "# Encode labels in column 'species'.\n",
        "df['Sex']= label_encoder.fit_transform(df['Sex'])\n",
        "df['Sex'].unique()\n"
      ],
      "execution_count": 50,
      "outputs": [
        {
          "output_type": "execute_result",
          "data": {
            "text/plain": [
              "array([1, 0])"
            ]
          },
          "metadata": {},
          "execution_count": 50
        }
      ]
    },
    {
      "cell_type": "markdown",
      "metadata": {
        "id": "Wab1f4LXEAA4"
      },
      "source": [
        "## Data Preprocessing"
      ]
    },
    {
      "cell_type": "code",
      "metadata": {
        "colab": {
          "base_uri": "https://localhost:8080/"
        },
        "id": "5_HHJPcTk6-A",
        "outputId": "cb2c710f-b9b4-4d40-ee28-9e46c11445c3"
      },
      "source": [
        "df.isna().sum()"
      ],
      "execution_count": 52,
      "outputs": [
        {
          "output_type": "execute_result",
          "data": {
            "text/plain": [
              "Age                0\n",
              "Sex                0\n",
              "RestingBP          0\n",
              "Cholesterol        0\n",
              "FastingBS          0\n",
              "RestingECG         0\n",
              "MaxHR              0\n",
              "Risk_Prediction    0\n",
              "dtype: int64"
            ]
          },
          "metadata": {},
          "execution_count": 52
        }
      ]
    },
    {
      "cell_type": "code",
      "metadata": {
        "colab": {
          "base_uri": "https://localhost:8080/",
          "height": 300
        },
        "id": "P5xjX1NHk_5Y",
        "outputId": "17f59585-74c2-4f4a-c9fc-aac875e1776f"
      },
      "source": [
        "df.describe()"
      ],
      "execution_count": 53,
      "outputs": [
        {
          "output_type": "execute_result",
          "data": {
            "text/html": [
              "<div>\n",
              "<style scoped>\n",
              "    .dataframe tbody tr th:only-of-type {\n",
              "        vertical-align: middle;\n",
              "    }\n",
              "\n",
              "    .dataframe tbody tr th {\n",
              "        vertical-align: top;\n",
              "    }\n",
              "\n",
              "    .dataframe thead th {\n",
              "        text-align: right;\n",
              "    }\n",
              "</style>\n",
              "<table border=\"1\" class=\"dataframe\">\n",
              "  <thead>\n",
              "    <tr style=\"text-align: right;\">\n",
              "      <th></th>\n",
              "      <th>Age</th>\n",
              "      <th>Sex</th>\n",
              "      <th>RestingBP</th>\n",
              "      <th>Cholesterol</th>\n",
              "      <th>FastingBS</th>\n",
              "      <th>RestingECG</th>\n",
              "      <th>MaxHR</th>\n",
              "      <th>Risk_Prediction</th>\n",
              "    </tr>\n",
              "  </thead>\n",
              "  <tbody>\n",
              "    <tr>\n",
              "      <th>count</th>\n",
              "      <td>918.000000</td>\n",
              "      <td>918.000000</td>\n",
              "      <td>918.000000</td>\n",
              "      <td>918.000000</td>\n",
              "      <td>918.000000</td>\n",
              "      <td>918.000000</td>\n",
              "      <td>918.000000</td>\n",
              "      <td>918.000000</td>\n",
              "    </tr>\n",
              "    <tr>\n",
              "      <th>mean</th>\n",
              "      <td>53.510893</td>\n",
              "      <td>0.789760</td>\n",
              "      <td>132.396514</td>\n",
              "      <td>198.799564</td>\n",
              "      <td>0.233115</td>\n",
              "      <td>0.989107</td>\n",
              "      <td>136.809368</td>\n",
              "      <td>0.553377</td>\n",
              "    </tr>\n",
              "    <tr>\n",
              "      <th>std</th>\n",
              "      <td>9.432617</td>\n",
              "      <td>0.407701</td>\n",
              "      <td>18.514154</td>\n",
              "      <td>109.384145</td>\n",
              "      <td>0.423046</td>\n",
              "      <td>0.631671</td>\n",
              "      <td>25.460334</td>\n",
              "      <td>0.497414</td>\n",
              "    </tr>\n",
              "    <tr>\n",
              "      <th>min</th>\n",
              "      <td>28.000000</td>\n",
              "      <td>0.000000</td>\n",
              "      <td>0.000000</td>\n",
              "      <td>0.000000</td>\n",
              "      <td>0.000000</td>\n",
              "      <td>0.000000</td>\n",
              "      <td>60.000000</td>\n",
              "      <td>0.000000</td>\n",
              "    </tr>\n",
              "    <tr>\n",
              "      <th>25%</th>\n",
              "      <td>47.000000</td>\n",
              "      <td>1.000000</td>\n",
              "      <td>120.000000</td>\n",
              "      <td>173.250000</td>\n",
              "      <td>0.000000</td>\n",
              "      <td>1.000000</td>\n",
              "      <td>120.000000</td>\n",
              "      <td>0.000000</td>\n",
              "    </tr>\n",
              "    <tr>\n",
              "      <th>50%</th>\n",
              "      <td>54.000000</td>\n",
              "      <td>1.000000</td>\n",
              "      <td>130.000000</td>\n",
              "      <td>223.000000</td>\n",
              "      <td>0.000000</td>\n",
              "      <td>1.000000</td>\n",
              "      <td>138.000000</td>\n",
              "      <td>1.000000</td>\n",
              "    </tr>\n",
              "    <tr>\n",
              "      <th>75%</th>\n",
              "      <td>60.000000</td>\n",
              "      <td>1.000000</td>\n",
              "      <td>140.000000</td>\n",
              "      <td>267.000000</td>\n",
              "      <td>0.000000</td>\n",
              "      <td>1.000000</td>\n",
              "      <td>156.000000</td>\n",
              "      <td>1.000000</td>\n",
              "    </tr>\n",
              "    <tr>\n",
              "      <th>max</th>\n",
              "      <td>77.000000</td>\n",
              "      <td>1.000000</td>\n",
              "      <td>200.000000</td>\n",
              "      <td>603.000000</td>\n",
              "      <td>1.000000</td>\n",
              "      <td>2.000000</td>\n",
              "      <td>202.000000</td>\n",
              "      <td>1.000000</td>\n",
              "    </tr>\n",
              "  </tbody>\n",
              "</table>\n",
              "</div>"
            ],
            "text/plain": [
              "              Age         Sex  ...       MaxHR  Risk_Prediction\n",
              "count  918.000000  918.000000  ...  918.000000       918.000000\n",
              "mean    53.510893    0.789760  ...  136.809368         0.553377\n",
              "std      9.432617    0.407701  ...   25.460334         0.497414\n",
              "min     28.000000    0.000000  ...   60.000000         0.000000\n",
              "25%     47.000000    1.000000  ...  120.000000         0.000000\n",
              "50%     54.000000    1.000000  ...  138.000000         1.000000\n",
              "75%     60.000000    1.000000  ...  156.000000         1.000000\n",
              "max     77.000000    1.000000  ...  202.000000         1.000000\n",
              "\n",
              "[8 rows x 8 columns]"
            ]
          },
          "metadata": {},
          "execution_count": 53
        }
      ]
    },
    {
      "cell_type": "code",
      "metadata": {
        "colab": {
          "base_uri": "https://localhost:8080/"
        },
        "id": "OezDdR3YlGVH",
        "outputId": "ebb013db-4784-4deb-f06d-4a18594f9ee1"
      },
      "source": [
        "df.groupby('RestingECG').size()"
      ],
      "execution_count": 54,
      "outputs": [
        {
          "output_type": "execute_result",
          "data": {
            "text/plain": [
              "RestingECG\n",
              "0    188\n",
              "1    552\n",
              "2    178\n",
              "dtype: int64"
            ]
          },
          "metadata": {},
          "execution_count": 54
        }
      ]
    },
    {
      "cell_type": "code",
      "metadata": {
        "colab": {
          "base_uri": "https://localhost:8080/"
        },
        "id": "3keKoVSV4U-7",
        "outputId": "cfaa97a7-4c2b-4b0c-d966-6f7f649781f1"
      },
      "source": [
        "df.groupby('Sex').size()"
      ],
      "execution_count": 55,
      "outputs": [
        {
          "output_type": "execute_result",
          "data": {
            "text/plain": [
              "Sex\n",
              "0    193\n",
              "1    725\n",
              "dtype: int64"
            ]
          },
          "metadata": {},
          "execution_count": 55
        }
      ]
    },
    {
      "cell_type": "markdown",
      "metadata": {
        "id": "NoaxlKGhovE2"
      },
      "source": [
        "## Visualization"
      ]
    },
    {
      "cell_type": "markdown",
      "metadata": {
        "id": "LlXbsM83owPf"
      },
      "source": [
        "Histogram"
      ]
    },
    {
      "cell_type": "code",
      "metadata": {
        "colab": {
          "base_uri": "https://localhost:8080/",
          "height": 455
        },
        "id": "m0gluivllyhq",
        "outputId": "3020fa2a-9926-4d32-a5a5-ceb503cff2c1"
      },
      "source": [
        "df.hist()"
      ],
      "execution_count": 58,
      "outputs": [
        {
          "output_type": "execute_result",
          "data": {
            "text/plain": [
              "array([[<matplotlib.axes._subplots.AxesSubplot object at 0x7fc7be7a1150>,\n",
              "        <matplotlib.axes._subplots.AxesSubplot object at 0x7fc7be74b810>,\n",
              "        <matplotlib.axes._subplots.AxesSubplot object at 0x7fc7be6fde10>],\n",
              "       [<matplotlib.axes._subplots.AxesSubplot object at 0x7fc7be6bf450>,\n",
              "        <matplotlib.axes._subplots.AxesSubplot object at 0x7fc7be6f3a50>,\n",
              "        <matplotlib.axes._subplots.AxesSubplot object at 0x7fc7be6b8090>],\n",
              "       [<matplotlib.axes._subplots.AxesSubplot object at 0x7fc7be66d690>,\n",
              "        <matplotlib.axes._subplots.AxesSubplot object at 0x7fc7be623c90>,\n",
              "        <matplotlib.axes._subplots.AxesSubplot object at 0x7fc7be639150>]],\n",
              "      dtype=object)"
            ]
          },
          "metadata": {},
          "execution_count": 58
        },
        {
          "output_type": "display_data",
          "data": {
            "image/png": "[encoded data removed]",
            "text/plain": [
              "<Figure size 432x288 with 9 Axes>"
            ]
          },
          "metadata": {
            "needs_background": "light"
          }
        }
      ]
    },
    {
      "cell_type": "markdown",
      "metadata": {
        "id": "IYZCU9m6o6p-"
      },
      "source": [
        "Boxplot"
      ]
    },
    {
      "cell_type": "code",
      "metadata": {
        "colab": {
          "base_uri": "https://localhost:8080/",
          "height": 283
        },
        "id": "kn_fkLhbmeNU",
        "outputId": "0d6acd74-3ed2-4043-eb01-3aebb4adecd9"
      },
      "source": [
        "df.plot(kind = 'box') "
      ],
      "execution_count": 59,
      "outputs": [
        {
          "output_type": "execute_result",
          "data": {
            "text/plain": [
              "<matplotlib.axes._subplots.AxesSubplot at 0x7fc7be4a5f90>"
            ]
          },
          "metadata": {},
          "execution_count": 59
        },
        {
          "output_type": "display_data",
          "data": {
            "image/png": "[encoded data removed]",
            "text/plain": [
              "<Figure size 432x288 with 1 Axes>"
            ]
          },
          "metadata": {
            "needs_background": "light"
          }
        }
      ]
    },
    {
      "cell_type": "markdown",
      "metadata": {
        "id": "s11OWEOYpAV6"
      },
      "source": [
        "Scatter Matrix"
      ]
    },
    {
      "cell_type": "code",
      "metadata": {
        "colab": {
          "base_uri": "https://localhost:8080/",
          "height": 1000
        },
        "id": "Xl_07ZTWmo7F",
        "outputId": "a77c746b-0395-450f-9f95-49968b11aa85"
      },
      "source": [
        "from pandas.plotting import scatter_matrix\n",
        "scatter_matrix(df, figsize=(10,10))"
      ],
      "execution_count": 60,
      "outputs": [
        {
          "output_type": "execute_result",
          "data": {
            "text/plain": [
              "array([[<matplotlib.axes._subplots.AxesSubplot object at 0x7fc7c8a58550>,\n",
              "        <matplotlib.axes._subplots.AxesSubplot object at 0x7fc7be3d5ed0>,\n",
              "        <matplotlib.axes._subplots.AxesSubplot object at 0x7fc7be397510>,\n",
              "        <matplotlib.axes._subplots.AxesSubplot object at 0x7fc7be34db10>,\n",
              "        <matplotlib.axes._subplots.AxesSubplot object at 0x7fc7be312150>,\n",
              "        <matplotlib.axes._subplots.AxesSubplot object at 0x7fc7be2c6750>,\n",
              "        <matplotlib.axes._subplots.AxesSubplot object at 0x7fc7be27ed50>,\n",
              "        <matplotlib.axes._subplots.AxesSubplot object at 0x7fc7be23e390>],\n",
              "       [<matplotlib.axes._subplots.AxesSubplot object at 0x7fc7be249810>,\n",
              "        <matplotlib.axes._subplots.AxesSubplot object at 0x7fc7be200f10>,\n",
              "        <matplotlib.axes._subplots.AxesSubplot object at 0x7fc7be1eb5d0>,\n",
              "        <matplotlib.axes._subplots.AxesSubplot object at 0x7fc7be1a2bd0>,\n",
              "        <matplotlib.axes._subplots.AxesSubplot object at 0x7fc7be161490>,\n",
              "        <matplotlib.axes._subplots.AxesSubplot object at 0x7fc7be116990>,\n",
              "        <matplotlib.axes._subplots.AxesSubplot object at 0x7fc7be0cce90>,\n",
              "        <matplotlib.axes._subplots.AxesSubplot object at 0x7fc7be08d3d0>],\n",
              "       [<matplotlib.axes._subplots.AxesSubplot object at 0x7fc7be0428d0>,\n",
              "        <matplotlib.axes._subplots.AxesSubplot object at 0x7fc7be079dd0>,\n",
              "        <matplotlib.axes._subplots.AxesSubplot object at 0x7fc7bdfbb310>,\n",
              "        <matplotlib.axes._subplots.AxesSubplot object at 0x7fc7bdff1810>,\n",
              "        <matplotlib.axes._subplots.AxesSubplot object at 0x7fc7bdfa8d10>,\n",
              "        <matplotlib.axes._subplots.AxesSubplot object at 0x7fc7bdf6c250>,\n",
              "        <matplotlib.axes._subplots.AxesSubplot object at 0x7fc7bdf1e750>,\n",
              "        <matplotlib.axes._subplots.AxesSubplot object at 0x7fc7bded6c50>],\n",
              "       [<matplotlib.axes._subplots.AxesSubplot object at 0x7fc7bde99150>,\n",
              "        <matplotlib.axes._subplots.AxesSubplot object at 0x7fc7bde4d650>,\n",
              "        <matplotlib.axes._subplots.AxesSubplot object at 0x7fc7bde0efd0>,\n",
              "        <matplotlib.axes._subplots.AxesSubplot object at 0x7fc7bddc7090>,\n",
              "        <matplotlib.axes._subplots.AxesSubplot object at 0x7fc7bdd7e590>,\n",
              "        <matplotlib.axes._subplots.AxesSubplot object at 0x7fc7bddb3ad0>,\n",
              "        <matplotlib.axes._subplots.AxesSubplot object at 0x7fc7bdd77050>,\n",
              "        <matplotlib.axes._subplots.AxesSubplot object at 0x7fc7bdd2b510>],\n",
              "       [<matplotlib.axes._subplots.AxesSubplot object at 0x7fc7bdce0a10>,\n",
              "        <matplotlib.axes._subplots.AxesSubplot object at 0x7fc7bdc97f10>,\n",
              "        <matplotlib.axes._subplots.AxesSubplot object at 0x7fc7bdc59450>,\n",
              "        <matplotlib.axes._subplots.AxesSubplot object at 0x7fc7bdc0f950>,\n",
              "        <matplotlib.axes._subplots.AxesSubplot object at 0x7fc7bdbc4e50>,\n",
              "        <matplotlib.axes._subplots.AxesSubplot object at 0x7fc7bdb88390>,\n",
              "        <matplotlib.axes._subplots.AxesSubplot object at 0x7fc7bdb3e890>,\n",
              "        <matplotlib.axes._subplots.AxesSubplot object at 0x7fc7bdb73d90>],\n",
              "       [<matplotlib.axes._subplots.AxesSubplot object at 0x7fc7bdb372d0>,\n",
              "        <matplotlib.axes._subplots.AxesSubplot object at 0x7fc7bdaed7d0>,\n",
              "        <matplotlib.axes._subplots.AxesSubplot object at 0x7fc7bdaa2cd0>,\n",
              "        <matplotlib.axes._subplots.AxesSubplot object at 0x7fc7bda64210>,\n",
              "        <matplotlib.axes._subplots.AxesSubplot object at 0x7fc7bda1b710>,\n",
              "        <matplotlib.axes._subplots.AxesSubplot object at 0x7fc7bd9d0c10>,\n",
              "        <matplotlib.axes._subplots.AxesSubplot object at 0x7fc7bd993150>,\n",
              "        <matplotlib.axes._subplots.AxesSubplot object at 0x7fc7bd949650>],\n",
              "       [<matplotlib.axes._subplots.AxesSubplot object at 0x7fc7bd90afd0>,\n",
              "        <matplotlib.axes._subplots.AxesSubplot object at 0x7fc7bd8c2090>,\n",
              "        <matplotlib.axes._subplots.AxesSubplot object at 0x7fc7bd8f6590>,\n",
              "        <matplotlib.axes._subplots.AxesSubplot object at 0x7fc7bd8afa90>,\n",
              "        <matplotlib.axes._subplots.AxesSubplot object at 0x7fc7bd865f90>,\n",
              "        <matplotlib.axes._subplots.AxesSubplot object at 0x7fc7be677490>,\n",
              "        <matplotlib.axes._subplots.AxesSubplot object at 0x7fc7be799250>,\n",
              "        <matplotlib.axes._subplots.AxesSubplot object at 0x7fc7bea100d0>],\n",
              "       [<matplotlib.axes._subplots.AxesSubplot object at 0x7fc7be2dee10>,\n",
              "        <matplotlib.axes._subplots.AxesSubplot object at 0x7fc7be40d810>,\n",
              "        <matplotlib.axes._subplots.AxesSubplot object at 0x7fc7bd7245d0>,\n",
              "        <matplotlib.axes._subplots.AxesSubplot object at 0x7fc7bd6dabd0>,\n",
              "        <matplotlib.axes._subplots.AxesSubplot object at 0x7fc7bd69e210>,\n",
              "        <matplotlib.axes._subplots.AxesSubplot object at 0x7fc7bd655810>,\n",
              "        <matplotlib.axes._subplots.AxesSubplot object at 0x7fc7bd60be10>,\n",
              "        <matplotlib.axes._subplots.AxesSubplot object at 0x7fc7bd5ce450>]],\n",
              "      dtype=object)"
            ]
          },
          "metadata": {},
          "execution_count": 60
        },
        {
          "output_type": "display_data",
          "data": {
            "image/png": "[encoded data removed]",
            "text/plain": [
              "<Figure size 720x720 with 64 Axes>"
            ]
          },
          "metadata": {
            "needs_background": "light"
          }
        }
      ]
    },
    {
      "cell_type": "markdown",
      "metadata": {
        "id": "f1XpexKp3cMX"
      },
      "source": [
        "## 1. Decision Tree Model"
      ]
    },
    {
      "cell_type": "code",
      "metadata": {
        "id": "GWJxBz4RmvQY",
        "colab": {
          "base_uri": "https://localhost:8080/"
        },
        "outputId": "5a761ee8-9f09-4486-a118-a53db0a2d0bd"
      },
      "source": [
        "X = df.iloc[:,:-1]\n",
        "y = df.iloc[:,-1]\n",
        "print (X)"
      ],
      "execution_count": 61,
      "outputs": [
        {
          "output_type": "stream",
          "name": "stdout",
          "text": [
            "     Age  Sex  RestingBP  Cholesterol  FastingBS  RestingECG  MaxHR\n",
            "0     40    1        140          289          0           1    172\n",
            "1     49    0        160          180          0           1    156\n",
            "2     37    1        130          283          0           2     98\n",
            "3     48    0        138          214          0           1    108\n",
            "4     54    1        150          195          0           1    122\n",
            "..   ...  ...        ...          ...        ...         ...    ...\n",
            "913   45    1        110          264          0           1    132\n",
            "914   68    1        144          193          1           1    141\n",
            "915   57    1        130          131          0           1    115\n",
            "916   57    0        130          236          0           0    174\n",
            "917   38    1        138          175          0           1    173\n",
            "\n",
            "[918 rows x 7 columns]\n"
          ]
        }
      ]
    },
    {
      "cell_type": "markdown",
      "metadata": {
        "id": "t8Bos1RDthTK"
      },
      "source": [
        "Splitting data into test and train"
      ]
    },
    {
      "cell_type": "code",
      "metadata": {
        "id": "NZ6hXlbXm83z",
        "colab": {
          "base_uri": "https://localhost:8080/"
        },
        "outputId": "c5c60116-29d8-4f94-e114-e5028d2b513a"
      },
      "source": [
        "from sklearn.model_selection import train_test_split\n",
        "X_train, X_test, y_train, y_test = train_test_split(X,y,test_size=0.3,random_state=7)\n",
        "\n",
        "print(X_train,y_train)"
      ],
      "execution_count": 62,
      "outputs": [
        {
          "output_type": "stream",
          "name": "stdout",
          "text": [
            "     Age  Sex  RestingBP  Cholesterol  FastingBS  RestingECG  MaxHR\n",
            "239   48    1        160          193          0           1    102\n",
            "504   62    1        158          210          1           1    112\n",
            "451   64    1        144            0          0           2    122\n",
            "192   48    1        130          245          0           1    160\n",
            "422   65    1        150          236          1           2    105\n",
            "..   ...  ...        ...          ...        ...         ...    ...\n",
            "579   69    1        145          289          1           2    110\n",
            "502   69    1        140          208          0           2    140\n",
            "537   74    1        150          258          1           2    130\n",
            "196   49    1        120          297          0           1    132\n",
            "175   43    1        140          288          0           1    135\n",
            "\n",
            "[642 rows x 7 columns] 239    1\n",
            "504    1\n",
            "451    1\n",
            "192    0\n",
            "422    1\n",
            "      ..\n",
            "579    1\n",
            "502    1\n",
            "537    1\n",
            "196    0\n",
            "175    1\n",
            "Name: Risk_Prediction, Length: 642, dtype: int64\n"
          ]
        }
      ]
    },
    {
      "cell_type": "markdown",
      "metadata": {
        "id": "Oe5AxqVGtzHg"
      },
      "source": [
        "Training Data"
      ]
    },
    {
      "cell_type": "code",
      "metadata": {
        "colab": {
          "base_uri": "https://localhost:8080/"
        },
        "id": "-TcMlXn9oA5g",
        "outputId": "6a946b4f-0e08-4a95-c28b-41d19c41dfaf"
      },
      "source": [
        "from sklearn.tree import DecisionTreeClassifier\n",
        "dtc = DecisionTreeClassifier(criterion= 'gini',\n",
        "                             max_depth= 3,\n",
        "                             min_samples_leaf= 1,\n",
        "                             min_samples_split= 10,\n",
        "                             splitter= 'random')\n",
        "                            \n",
        "dtc.fit(X_train, y_train)"
      ],
      "execution_count": 63,
      "outputs": [
        {
          "output_type": "execute_result",
          "data": {
            "text/plain": [
              "DecisionTreeClassifier(max_depth=3, min_samples_split=10, splitter='random')"
            ]
          },
          "metadata": {},
          "execution_count": 63
        }
      ]
    },
    {
      "cell_type": "code",
      "metadata": {
        "id": "Q3HtQbjI1MVi"
      },
      "source": [
        "y_pred = dtc.predict(X_test)"
      ],
      "execution_count": 64,
      "outputs": []
    },
    {
      "cell_type": "markdown",
      "metadata": {
        "id": "4qS00CVUt4Ou"
      },
      "source": [
        "Checking Accuracy"
      ]
    },
    {
      "cell_type": "code",
      "metadata": {
        "colab": {
          "base_uri": "https://localhost:8080/"
        },
        "id": "Nz4utosRoCVu",
        "outputId": "998b5c4f-2d7e-40d8-cbe1-e5a19f6a3c90"
      },
      "source": [
        "from sklearn.metrics import accuracy_score, confusion_matrix\n",
        "\n",
        "print(\"Accuracy of train data:\",accuracy_score(y_train, dtc.predict(X_train)))\n",
        "\n",
        "print(\"Accuracy of test data:\",accuracy_score(y_test, dtc.predict(X_test)))"
      ],
      "execution_count": 65,
      "outputs": [
        {
          "output_type": "stream",
          "name": "stdout",
          "text": [
            "Accuracy of train data: 0.6526479750778816\n",
            "Accuracy of test data: 0.6811594202898551\n"
          ]
        }
      ]
    },
    {
      "cell_type": "code",
      "metadata": {
        "colab": {
          "base_uri": "https://localhost:8080/"
        },
        "id": "5ZT8pAkS04s0",
        "outputId": "d4d100d6-d290-4003-bcc5-a33a6dcf0d0b"
      },
      "source": [
        "from sklearn.metrics import classification_report, confusion_matrix\n",
        "print(confusion_matrix(y_test, dtc.predict(X_test)))\n",
        "print(classification_report(y_test, dtc.predict(X_test)))"
      ],
      "execution_count": 66,
      "outputs": [
        {
          "output_type": "stream",
          "name": "stdout",
          "text": [
            "[[ 47  81]\n",
            " [  7 141]]\n",
            "              precision    recall  f1-score   support\n",
            "\n",
            "           0       0.87      0.37      0.52       128\n",
            "           1       0.64      0.95      0.76       148\n",
            "\n",
            "    accuracy                           0.68       276\n",
            "   macro avg       0.75      0.66      0.64       276\n",
            "weighted avg       0.74      0.68      0.65       276\n",
            "\n"
          ]
        }
      ]
    },
    {
      "cell_type": "code",
      "metadata": {
        "colab": {
          "base_uri": "https://localhost:8080/",
          "height": 354
        },
        "id": "MBHPFvaMiH5B",
        "outputId": "c7429042-34ac-4909-d991-cd3b4ac81e80"
      },
      "source": [
        "import matplotlib.pyplot as plt\n",
        "from sklearn.metrics import plot_confusion_matrix\n",
        "plot_confusion_matrix(dtc, X_test, y_test)  \n",
        "#plt.show()"
      ],
      "execution_count": 67,
      "outputs": [
        {
          "output_type": "stream",
          "name": "stderr",
          "text": [
            "/usr/local/lib/python3.7/dist-packages/sklearn/utils/deprecation.py:87: FutureWarning: Function plot_confusion_matrix is deprecated; Function `plot_confusion_matrix` is deprecated in 1.0 and will be removed in 1.2. Use one of the class methods: ConfusionMatrixDisplay.from_predictions or ConfusionMatrixDisplay.from_estimator.\n",
            "  warnings.warn(msg, category=FutureWarning)\n"
          ]
        },
        {
          "output_type": "execute_result",
          "data": {
            "text/plain": [
              "<sklearn.metrics._plot.confusion_matrix.ConfusionMatrixDisplay at 0x7fc7be64e810>"
            ]
          },
          "metadata": {},
          "execution_count": 67
        },
        {
          "output_type": "display_data",
          "data": {
            "image/png": "[encoded data removed]",
            "text/plain": [
              "<Figure size 432x288 with 2 Axes>"
            ]
          },
          "metadata": {
            "needs_background": "light"
          }
        }
      ]
    },
    {
      "cell_type": "code",
      "metadata": {
        "colab": {
          "base_uri": "https://localhost:8080/",
          "height": 619
        },
        "id": "W9rrFuqIoL51",
        "outputId": "65f4d470-42ea-4436-8305-1034e8566b1c"
      },
      "source": [
        "from sklearn import tree\n",
        "import graphviz\n",
        "dot_data = tree.export_graphviz(dtc, out_file=None, \n",
        "                                #feature_names=X.columns,\n",
        "                                class_names=['Risky', \"Not Risky\"],\n",
        "                                filled=True)\n",
        "\n",
        "# Draw graph\n",
        "graph = graphviz.Source(dot_data, format=\"png\") \n",
        "graph"
      ],
      "execution_count": 69,
      "outputs": [
        {
          "output_type": "execute_result",
          "data": {
            "text/plain": [
              "<graphviz.files.Source at 0x7fc7bcffde50>"
            ],
            "image/svg+xml": "<?xml version=\"1.0\" encoding=\"UTF-8\" standalone=\"no\"?>\n<!DOCTYPE svg PUBLIC \"-//W3C//DTD SVG 1.1//EN\"\n \"http://www.w3.org/Graphics/SVG/1.1/DTD/svg11.dtd\">\n<!-- Generated by graphviz version 2.40.1 (20161225.0304)\n -->\n<!-- Title: Tree Pages: 1 -->\n<svg width=\"1138pt\" height=\"433pt\"\n viewBox=\"0.00 0.00 1138.00 433.00\" xmlns=\"http://www.w3.org/2000/svg\" xmlns:xlink=\"http://www.w3.org/1999/xlink\">\n<g id=\"graph0\" class=\"graph\" transform=\"scale(1 1) rotate(0) translate(4 429)\">\n<title>Tree</title>\n<polygon fill=\"#ffffff\" stroke=\"transparent\" points=\"-4,4 -4,-429 1134,-429 1134,4 -4,4\"/>\n<!-- 0 -->\n<g id=\"node1\" class=\"node\">\n<title>0</title>\n<polygon fill=\"#d4eaf9\" stroke=\"#000000\" points=\"617,-425 485,-425 485,-342 617,-342 617,-425\"/>\n<text text-anchor=\"middle\" x=\"551\" y=\"-409.8\" font-family=\"Helvetica,sans-Serif\" font-size=\"14.00\" fill=\"#000000\">X[1] &lt;= 0.993</text>\n<text text-anchor=\"middle\" x=\"551\" y=\"-394.8\" font-family=\"Helvetica,sans-Serif\" font-size=\"14.00\" fill=\"#000000\">gini = 0.493</text>\n<text text-anchor=\"middle\" x=\"551\" y=\"-379.8\" font-family=\"Helvetica,sans-Serif\" font-size=\"14.00\" fill=\"#000000\">samples = 642</text>\n<text text-anchor=\"middle\" x=\"551\" y=\"-364.8\" font-family=\"Helvetica,sans-Serif\" font-size=\"14.00\" fill=\"#000000\">value = [282, 360]</text>\n<text text-anchor=\"middle\" x=\"551\" y=\"-349.8\" font-family=\"Helvetica,sans-Serif\" font-size=\"14.00\" fill=\"#000000\">class = Not Risky</text>\n</g>\n<!-- 1 -->\n<g id=\"node2\" class=\"node\">\n<title>1</title>\n<polygon fill=\"#f0b68c\" stroke=\"#000000\" points=\"464,-306 348,-306 348,-223 464,-223 464,-306\"/>\n<text text-anchor=\"middle\" x=\"406\" y=\"-290.8\" font-family=\"Helvetica,sans-Serif\" font-size=\"14.00\" fill=\"#000000\">X[4] &lt;= 0.07</text>\n<text text-anchor=\"middle\" x=\"406\" y=\"-275.8\" font-family=\"Helvetica,sans-Serif\" font-size=\"14.00\" fill=\"#000000\">gini = 0.416</text>\n<text text-anchor=\"middle\" x=\"406\" y=\"-260.8\" font-family=\"Helvetica,sans-Serif\" font-size=\"14.00\" fill=\"#000000\">samples = 129</text>\n<text text-anchor=\"middle\" x=\"406\" y=\"-245.8\" font-family=\"Helvetica,sans-Serif\" font-size=\"14.00\" fill=\"#000000\">value = [91, 38]</text>\n<text text-anchor=\"middle\" x=\"406\" y=\"-230.8\" font-family=\"Helvetica,sans-Serif\" font-size=\"14.00\" fill=\"#000000\">class = Risky</text>\n</g>\n<!-- 0&#45;&gt;1 -->\n<g id=\"edge1\" class=\"edge\">\n<title>0&#45;&gt;1</title>\n<path fill=\"none\" stroke=\"#000000\" d=\"M500.286,-341.8796C488.873,-332.513 476.6659,-322.4948 464.9485,-312.8784\"/>\n<polygon fill=\"#000000\" stroke=\"#000000\" points=\"466.8809,-309.9366 456.9304,-306.2981 462.4401,-315.3476 466.8809,-309.9366\"/>\n<text text-anchor=\"middle\" x=\"459.3807\" y=\"-327.4777\" font-family=\"Helvetica,sans-Serif\" font-size=\"14.00\" fill=\"#000000\">True</text>\n</g>\n<!-- 8 -->\n<g id=\"node9\" class=\"node\">\n<title>8</title>\n<polygon fill=\"#aed7f4\" stroke=\"#000000\" points=\"763,-306 631,-306 631,-223 763,-223 763,-306\"/>\n<text text-anchor=\"middle\" x=\"697\" y=\"-290.8\" font-family=\"Helvetica,sans-Serif\" font-size=\"14.00\" fill=\"#000000\">X[3] &lt;= 84.076</text>\n<text text-anchor=\"middle\" x=\"697\" y=\"-275.8\" font-family=\"Helvetica,sans-Serif\" font-size=\"14.00\" fill=\"#000000\">gini = 0.467</text>\n<text text-anchor=\"middle\" x=\"697\" y=\"-260.8\" font-family=\"Helvetica,sans-Serif\" font-size=\"14.00\" fill=\"#000000\">samples = 513</text>\n<text text-anchor=\"middle\" x=\"697\" y=\"-245.8\" font-family=\"Helvetica,sans-Serif\" font-size=\"14.00\" fill=\"#000000\">value = [191, 322]</text>\n<text text-anchor=\"middle\" x=\"697\" y=\"-230.8\" font-family=\"Helvetica,sans-Serif\" font-size=\"14.00\" fill=\"#000000\">class = Not Risky</text>\n</g>\n<!-- 0&#45;&gt;8 -->\n<g id=\"edge8\" class=\"edge\">\n<title>0&#45;&gt;8</title>\n<path fill=\"none\" stroke=\"#000000\" d=\"M602.0637,-341.8796C613.5555,-332.513 625.8468,-322.4948 637.645,-312.8784\"/>\n<polygon fill=\"#000000\" stroke=\"#000000\" points=\"640.1782,-315.329 645.7183,-306.2981 635.7556,-309.903 640.1782,-315.329\"/>\n<text text-anchor=\"middle\" x=\"643.1843\" y=\"-327.4693\" font-family=\"Helvetica,sans-Serif\" font-size=\"14.00\" fill=\"#000000\">False</text>\n</g>\n<!-- 2 -->\n<g id=\"node3\" class=\"node\">\n<title>2</title>\n<polygon fill=\"#eda977\" stroke=\"#000000\" points=\"251.5,-187 132.5,-187 132.5,-104 251.5,-104 251.5,-187\"/>\n<text text-anchor=\"middle\" x=\"192\" y=\"-171.8\" font-family=\"Helvetica,sans-Serif\" font-size=\"14.00\" fill=\"#000000\">X[2] &lt;= 145.447</text>\n<text text-anchor=\"middle\" x=\"192\" y=\"-156.8\" font-family=\"Helvetica,sans-Serif\" font-size=\"14.00\" fill=\"#000000\">gini = 0.364</text>\n<text text-anchor=\"middle\" x=\"192\" y=\"-141.8\" font-family=\"Helvetica,sans-Serif\" font-size=\"14.00\" fill=\"#000000\">samples = 113</text>\n<text text-anchor=\"middle\" x=\"192\" y=\"-126.8\" font-family=\"Helvetica,sans-Serif\" font-size=\"14.00\" fill=\"#000000\">value = [86, 27]</text>\n<text text-anchor=\"middle\" x=\"192\" y=\"-111.8\" font-family=\"Helvetica,sans-Serif\" font-size=\"14.00\" fill=\"#000000\">class = Risky</text>\n</g>\n<!-- 1&#45;&gt;2 -->\n<g id=\"edge2\" class=\"edge\">\n<title>1&#45;&gt;2</title>\n<path fill=\"none\" stroke=\"#000000\" d=\"M347.8062,-232.1399C320.8909,-217.173 288.7318,-199.2901 260.639,-183.6684\"/>\n<polygon fill=\"#000000\" stroke=\"#000000\" points=\"262.1132,-180.4835 251.6726,-178.6824 258.7113,-186.6012 262.1132,-180.4835\"/>\n</g>\n<!-- 5 -->\n<g id=\"node6\" class=\"node\">\n<title>5</title>\n<polygon fill=\"#93caf1\" stroke=\"#000000\" points=\"470,-187 342,-187 342,-104 470,-104 470,-187\"/>\n<text text-anchor=\"middle\" x=\"406\" y=\"-171.8\" font-family=\"Helvetica,sans-Serif\" font-size=\"14.00\" fill=\"#000000\">X[3] &lt;= 55.174</text>\n<text text-anchor=\"middle\" x=\"406\" y=\"-156.8\" font-family=\"Helvetica,sans-Serif\" font-size=\"14.00\" fill=\"#000000\">gini = 0.43</text>\n<text text-anchor=\"middle\" x=\"406\" y=\"-141.8\" font-family=\"Helvetica,sans-Serif\" font-size=\"14.00\" fill=\"#000000\">samples = 16</text>\n<text text-anchor=\"middle\" x=\"406\" y=\"-126.8\" font-family=\"Helvetica,sans-Serif\" font-size=\"14.00\" fill=\"#000000\">value = [5, 11]</text>\n<text text-anchor=\"middle\" x=\"406\" y=\"-111.8\" font-family=\"Helvetica,sans-Serif\" font-size=\"14.00\" fill=\"#000000\">class = Not Risky</text>\n</g>\n<!-- 1&#45;&gt;5 -->\n<g id=\"edge5\" class=\"edge\">\n<title>1&#45;&gt;5</title>\n<path fill=\"none\" stroke=\"#000000\" d=\"M406,-222.8796C406,-214.6838 406,-205.9891 406,-197.5013\"/>\n<polygon fill=\"#000000\" stroke=\"#000000\" points=\"409.5001,-197.298 406,-187.2981 402.5001,-197.2981 409.5001,-197.298\"/>\n</g>\n<!-- 3 -->\n<g id=\"node4\" class=\"node\">\n<title>3</title>\n<polygon fill=\"#ea9c63\" stroke=\"#000000\" points=\"116,-68 0,-68 0,0 116,0 116,-68\"/>\n<text text-anchor=\"middle\" x=\"58\" y=\"-52.8\" font-family=\"Helvetica,sans-Serif\" font-size=\"14.00\" fill=\"#000000\">gini = 0.288</text>\n<text text-anchor=\"middle\" x=\"58\" y=\"-37.8\" font-family=\"Helvetica,sans-Serif\" font-size=\"14.00\" fill=\"#000000\">samples = 86</text>\n<text text-anchor=\"middle\" x=\"58\" y=\"-22.8\" font-family=\"Helvetica,sans-Serif\" font-size=\"14.00\" fill=\"#000000\">value = [71, 15]</text>\n<text text-anchor=\"middle\" x=\"58\" y=\"-7.8\" font-family=\"Helvetica,sans-Serif\" font-size=\"14.00\" fill=\"#000000\">class = Risky</text>\n</g>\n<!-- 2&#45;&gt;3 -->\n<g id=\"edge3\" class=\"edge\">\n<title>2&#45;&gt;3</title>\n<path fill=\"none\" stroke=\"#000000\" d=\"M142.1033,-103.9815C130.6162,-94.4232 118.4103,-84.2668 106.9633,-74.7419\"/>\n<polygon fill=\"#000000\" stroke=\"#000000\" points=\"109.1035,-71.9695 99.1779,-68.2637 104.6261,-77.3503 109.1035,-71.9695\"/>\n</g>\n<!-- 4 -->\n<g id=\"node5\" class=\"node\">\n<title>4</title>\n<polygon fill=\"#fae6d7\" stroke=\"#000000\" points=\"250,-68 134,-68 134,0 250,0 250,-68\"/>\n<text text-anchor=\"middle\" x=\"192\" y=\"-52.8\" font-family=\"Helvetica,sans-Serif\" font-size=\"14.00\" fill=\"#000000\">gini = 0.494</text>\n<text text-anchor=\"middle\" x=\"192\" y=\"-37.8\" font-family=\"Helvetica,sans-Serif\" font-size=\"14.00\" fill=\"#000000\">samples = 27</text>\n<text text-anchor=\"middle\" x=\"192\" y=\"-22.8\" font-family=\"Helvetica,sans-Serif\" font-size=\"14.00\" fill=\"#000000\">value = [15, 12]</text>\n<text text-anchor=\"middle\" x=\"192\" y=\"-7.8\" font-family=\"Helvetica,sans-Serif\" font-size=\"14.00\" fill=\"#000000\">class = Risky</text>\n</g>\n<!-- 2&#45;&gt;4 -->\n<g id=\"edge4\" class=\"edge\">\n<title>2&#45;&gt;4</title>\n<path fill=\"none\" stroke=\"#000000\" d=\"M192,-103.9815C192,-95.618 192,-86.7965 192,-78.3409\"/>\n<polygon fill=\"#000000\" stroke=\"#000000\" points=\"195.5001,-78.2636 192,-68.2637 188.5001,-78.2637 195.5001,-78.2636\"/>\n</g>\n<!-- 6 -->\n<g id=\"node7\" class=\"node\">\n<title>6</title>\n<polygon fill=\"#399de5\" stroke=\"#000000\" points=\"396,-68 268,-68 268,0 396,0 396,-68\"/>\n<text text-anchor=\"middle\" x=\"332\" y=\"-52.8\" font-family=\"Helvetica,sans-Serif\" font-size=\"14.00\" fill=\"#000000\">gini = 0.0</text>\n<text text-anchor=\"middle\" x=\"332\" y=\"-37.8\" font-family=\"Helvetica,sans-Serif\" font-size=\"14.00\" fill=\"#000000\">samples = 5</text>\n<text text-anchor=\"middle\" x=\"332\" y=\"-22.8\" font-family=\"Helvetica,sans-Serif\" font-size=\"14.00\" fill=\"#000000\">value = [0, 5]</text>\n<text text-anchor=\"middle\" x=\"332\" y=\"-7.8\" font-family=\"Helvetica,sans-Serif\" font-size=\"14.00\" fill=\"#000000\">class = Not Risky</text>\n</g>\n<!-- 5&#45;&gt;6 -->\n<g id=\"edge6\" class=\"edge\">\n<title>5&#45;&gt;6</title>\n<path fill=\"none\" stroke=\"#000000\" d=\"M378.4451,-103.9815C372.5285,-95.0666 366.2665,-85.6313 360.3213,-76.6734\"/>\n<polygon fill=\"#000000\" stroke=\"#000000\" points=\"363.186,-74.6602 354.74,-68.2637 357.3536,-78.5311 363.186,-74.6602\"/>\n</g>\n<!-- 7 -->\n<g id=\"node8\" class=\"node\">\n<title>7</title>\n<polygon fill=\"#deeffb\" stroke=\"#000000\" points=\"542,-68 414,-68 414,0 542,0 542,-68\"/>\n<text text-anchor=\"middle\" x=\"478\" y=\"-52.8\" font-family=\"Helvetica,sans-Serif\" font-size=\"14.00\" fill=\"#000000\">gini = 0.496</text>\n<text text-anchor=\"middle\" x=\"478\" y=\"-37.8\" font-family=\"Helvetica,sans-Serif\" font-size=\"14.00\" fill=\"#000000\">samples = 11</text>\n<text text-anchor=\"middle\" x=\"478\" y=\"-22.8\" font-family=\"Helvetica,sans-Serif\" font-size=\"14.00\" fill=\"#000000\">value = [5, 6]</text>\n<text text-anchor=\"middle\" x=\"478\" y=\"-7.8\" font-family=\"Helvetica,sans-Serif\" font-size=\"14.00\" fill=\"#000000\">class = Not Risky</text>\n</g>\n<!-- 5&#45;&gt;7 -->\n<g id=\"edge7\" class=\"edge\">\n<title>5&#45;&gt;7</title>\n<path fill=\"none\" stroke=\"#000000\" d=\"M432.8101,-103.9815C438.5669,-95.0666 444.6596,-85.6313 450.4441,-76.6734\"/>\n<polygon fill=\"#000000\" stroke=\"#000000\" points=\"453.3901,-78.5631 455.8746,-68.2637 447.5096,-74.7658 453.3901,-78.5631\"/>\n</g>\n<!-- 9 -->\n<g id=\"node10\" class=\"node\">\n<title>9</title>\n<polygon fill=\"#54abe9\" stroke=\"#000000\" points=\"761,-187 633,-187 633,-104 761,-104 761,-187\"/>\n<text text-anchor=\"middle\" x=\"697\" y=\"-171.8\" font-family=\"Helvetica,sans-Serif\" font-size=\"14.00\" fill=\"#000000\">X[4] &lt;= 0.307</text>\n<text text-anchor=\"middle\" x=\"697\" y=\"-156.8\" font-family=\"Helvetica,sans-Serif\" font-size=\"14.00\" fill=\"#000000\">gini = 0.214</text>\n<text text-anchor=\"middle\" x=\"697\" y=\"-141.8\" font-family=\"Helvetica,sans-Serif\" font-size=\"14.00\" fill=\"#000000\">samples = 115</text>\n<text text-anchor=\"middle\" x=\"697\" y=\"-126.8\" font-family=\"Helvetica,sans-Serif\" font-size=\"14.00\" fill=\"#000000\">value = [14, 101]</text>\n<text text-anchor=\"middle\" x=\"697\" y=\"-111.8\" font-family=\"Helvetica,sans-Serif\" font-size=\"14.00\" fill=\"#000000\">class = Not Risky</text>\n</g>\n<!-- 8&#45;&gt;9 -->\n<g id=\"edge9\" class=\"edge\">\n<title>8&#45;&gt;9</title>\n<path fill=\"none\" stroke=\"#000000\" d=\"M697,-222.8796C697,-214.6838 697,-205.9891 697,-197.5013\"/>\n<polygon fill=\"#000000\" stroke=\"#000000\" points=\"700.5001,-197.298 697,-187.2981 693.5001,-197.2981 700.5001,-197.298\"/>\n</g>\n<!-- 12 -->\n<g id=\"node13\" class=\"node\">\n<title>12</title>\n<polygon fill=\"#d8ebfa\" stroke=\"#000000\" points=\"984,-187 852,-187 852,-104 984,-104 984,-187\"/>\n<text text-anchor=\"middle\" x=\"918\" y=\"-171.8\" font-family=\"Helvetica,sans-Serif\" font-size=\"14.00\" fill=\"#000000\">X[4] &lt;= 0.084</text>\n<text text-anchor=\"middle\" x=\"918\" y=\"-156.8\" font-family=\"Helvetica,sans-Serif\" font-size=\"14.00\" fill=\"#000000\">gini = 0.494</text>\n<text text-anchor=\"middle\" x=\"918\" y=\"-141.8\" font-family=\"Helvetica,sans-Serif\" font-size=\"14.00\" fill=\"#000000\">samples = 398</text>\n<text text-anchor=\"middle\" x=\"918\" y=\"-126.8\" font-family=\"Helvetica,sans-Serif\" font-size=\"14.00\" fill=\"#000000\">value = [177, 221]</text>\n<text text-anchor=\"middle\" x=\"918\" y=\"-111.8\" font-family=\"Helvetica,sans-Serif\" font-size=\"14.00\" fill=\"#000000\">class = Not Risky</text>\n</g>\n<!-- 8&#45;&gt;12 -->\n<g id=\"edge12\" class=\"edge\">\n<title>8&#45;&gt;12</title>\n<path fill=\"none\" stroke=\"#000000\" d=\"M763.0079,-228.9573C788.1523,-215.418 816.9865,-199.8919 842.9124,-185.9318\"/>\n<polygon fill=\"#000000\" stroke=\"#000000\" points=\"844.8052,-188.8878 851.9506,-181.0651 841.4865,-182.7245 844.8052,-188.8878\"/>\n</g>\n<!-- 10 -->\n<g id=\"node11\" class=\"node\">\n<title>10</title>\n<polygon fill=\"#72b9ed\" stroke=\"#000000\" points=\"688,-68 560,-68 560,0 688,0 688,-68\"/>\n<text text-anchor=\"middle\" x=\"624\" y=\"-52.8\" font-family=\"Helvetica,sans-Serif\" font-size=\"14.00\" fill=\"#000000\">gini = 0.348</text>\n<text text-anchor=\"middle\" x=\"624\" y=\"-37.8\" font-family=\"Helvetica,sans-Serif\" font-size=\"14.00\" fill=\"#000000\">samples = 58</text>\n<text text-anchor=\"middle\" x=\"624\" y=\"-22.8\" font-family=\"Helvetica,sans-Serif\" font-size=\"14.00\" fill=\"#000000\">value = [13, 45]</text>\n<text text-anchor=\"middle\" x=\"624\" y=\"-7.8\" font-family=\"Helvetica,sans-Serif\" font-size=\"14.00\" fill=\"#000000\">class = Not Risky</text>\n</g>\n<!-- 9&#45;&gt;10 -->\n<g id=\"edge10\" class=\"edge\">\n<title>9&#45;&gt;10</title>\n<path fill=\"none\" stroke=\"#000000\" d=\"M669.8175,-103.9815C663.9808,-95.0666 657.8034,-85.6313 651.9386,-76.6734\"/>\n<polygon fill=\"#000000\" stroke=\"#000000\" points=\"654.8386,-74.7129 646.4327,-68.2637 648.9821,-78.5472 654.8386,-74.7129\"/>\n</g>\n<!-- 11 -->\n<g id=\"node12\" class=\"node\">\n<title>11</title>\n<polygon fill=\"#3d9fe5\" stroke=\"#000000\" points=\"834,-68 706,-68 706,0 834,0 834,-68\"/>\n<text text-anchor=\"middle\" x=\"770\" y=\"-52.8\" font-family=\"Helvetica,sans-Serif\" font-size=\"14.00\" fill=\"#000000\">gini = 0.034</text>\n<text text-anchor=\"middle\" x=\"770\" y=\"-37.8\" font-family=\"Helvetica,sans-Serif\" font-size=\"14.00\" fill=\"#000000\">samples = 57</text>\n<text text-anchor=\"middle\" x=\"770\" y=\"-22.8\" font-family=\"Helvetica,sans-Serif\" font-size=\"14.00\" fill=\"#000000\">value = [1, 56]</text>\n<text text-anchor=\"middle\" x=\"770\" y=\"-7.8\" font-family=\"Helvetica,sans-Serif\" font-size=\"14.00\" fill=\"#000000\">class = Not Risky</text>\n</g>\n<!-- 9&#45;&gt;11 -->\n<g id=\"edge11\" class=\"edge\">\n<title>9&#45;&gt;11</title>\n<path fill=\"none\" stroke=\"#000000\" d=\"M724.1825,-103.9815C730.0192,-95.0666 736.1966,-85.6313 742.0614,-76.6734\"/>\n<polygon fill=\"#000000\" stroke=\"#000000\" points=\"745.0179,-78.5472 747.5673,-68.2637 739.1614,-74.7129 745.0179,-78.5472\"/>\n</g>\n<!-- 13 -->\n<g id=\"node14\" class=\"node\">\n<title>13</title>\n<polygon fill=\"#eaf4fc\" stroke=\"#000000\" points=\"984,-68 852,-68 852,0 984,0 984,-68\"/>\n<text text-anchor=\"middle\" x=\"918\" y=\"-52.8\" font-family=\"Helvetica,sans-Serif\" font-size=\"14.00\" fill=\"#000000\">gini = 0.498</text>\n<text text-anchor=\"middle\" x=\"918\" y=\"-37.8\" font-family=\"Helvetica,sans-Serif\" font-size=\"14.00\" fill=\"#000000\">samples = 331</text>\n<text text-anchor=\"middle\" x=\"918\" y=\"-22.8\" font-family=\"Helvetica,sans-Serif\" font-size=\"14.00\" fill=\"#000000\">value = [156, 175]</text>\n<text text-anchor=\"middle\" x=\"918\" y=\"-7.8\" font-family=\"Helvetica,sans-Serif\" font-size=\"14.00\" fill=\"#000000\">class = Not Risky</text>\n</g>\n<!-- 12&#45;&gt;13 -->\n<g id=\"edge13\" class=\"edge\">\n<title>12&#45;&gt;13</title>\n<path fill=\"none\" stroke=\"#000000\" d=\"M918,-103.9815C918,-95.618 918,-86.7965 918,-78.3409\"/>\n<polygon fill=\"#000000\" stroke=\"#000000\" points=\"921.5001,-78.2636 918,-68.2637 914.5001,-78.2637 921.5001,-78.2636\"/>\n</g>\n<!-- 14 -->\n<g id=\"node15\" class=\"node\">\n<title>14</title>\n<polygon fill=\"#93caf1\" stroke=\"#000000\" points=\"1130,-68 1002,-68 1002,0 1130,0 1130,-68\"/>\n<text text-anchor=\"middle\" x=\"1066\" y=\"-52.8\" font-family=\"Helvetica,sans-Serif\" font-size=\"14.00\" fill=\"#000000\">gini = 0.43</text>\n<text text-anchor=\"middle\" x=\"1066\" y=\"-37.8\" font-family=\"Helvetica,sans-Serif\" font-size=\"14.00\" fill=\"#000000\">samples = 67</text>\n<text text-anchor=\"middle\" x=\"1066\" y=\"-22.8\" font-family=\"Helvetica,sans-Serif\" font-size=\"14.00\" fill=\"#000000\">value = [21, 46]</text>\n<text text-anchor=\"middle\" x=\"1066\" y=\"-7.8\" font-family=\"Helvetica,sans-Serif\" font-size=\"14.00\" fill=\"#000000\">class = Not Risky</text>\n</g>\n<!-- 12&#45;&gt;14 -->\n<g id=\"edge14\" class=\"edge\">\n<title>12&#45;&gt;14</title>\n<path fill=\"none\" stroke=\"#000000\" d=\"M973.1097,-103.9815C985.919,-94.3313 999.5375,-84.0714 1012.2856,-74.4673\"/>\n<polygon fill=\"#000000\" stroke=\"#000000\" points=\"1014.639,-77.0764 1020.52,-68.2637 1010.4269,-71.4855 1014.639,-77.0764\"/>\n</g>\n</g>\n</svg>\n"
          },
          "metadata": {},
          "execution_count": 69
        }
      ]
    },
    {
      "cell_type": "code",
      "metadata": {
        "colab": {
          "base_uri": "https://localhost:8080/",
          "height": 265
        },
        "id": "HtGx2RgwBnzC",
        "outputId": "bec498c1-0a44-4a86-9743-1a495d4b2929"
      },
      "source": [
        "from sklearn.datasets import make_classification\n",
        "from sklearn.model_selection import train_test_split\n",
        "from sklearn.metrics import accuracy_score\n",
        "from sklearn.tree import DecisionTreeClassifier\n",
        "from matplotlib import pyplot\n",
        "\n",
        "# define lists to collect scores\n",
        "train_scores, test_scores = list(), list()\n",
        "# define the tree depths to evaluate\n",
        "values = [i for i in range(1, 21)]\n",
        "# evaluate a decision tree for each depth\n",
        "for i in values:\n",
        "\t# configure the model\n",
        "  clfm=RandomForestClassifier(n_estimators=100)\n",
        "  clfm.fit(X_train, y_train)\n",
        "\t# evaluate on the train dataset\n",
        "  train_yhat = clfm.predict(X_train)\n",
        "  train_acc = accuracy_score(y_train, train_yhat)\n",
        "  train_scores.append(train_acc)\n",
        "\t# evaluate on the test dataset\n",
        "  test_yhat = clfm.predict(X_test)\n",
        "  test_acc = accuracy_score(y_test, test_yhat)\n",
        "  test_scores.append(test_acc)\n",
        "  \n",
        "# plot of train and test scores vs tree depth\n",
        "pyplot.plot(values, train_scores, '-o', label='Train')\n",
        "pyplot.plot(values, test_scores, '-o', label='Test')\n",
        "pyplot.legend()\n",
        "pyplot.show()"
      ],
      "execution_count": 77,
      "outputs": [
        {
          "output_type": "display_data",
          "data": {
            "image/png": "[encoded data removed]",
            "text/plain": [
              "<Figure size 432x288 with 1 Axes>"
            ]
          },
          "metadata": {
            "needs_background": "light"
          }
        }
      ]
    },
    {
      "cell_type": "code",
      "metadata": {
        "id": "XCFS7vopCGjL"
      },
      "source": [
        "imp_df = pd.DataFrame({\"Varname\" : X_train.columns, \"Imp\" : dtc.feature_importances_})"
      ],
      "execution_count": 88,
      "outputs": []
    },
    {
      "cell_type": "code",
      "metadata": {
        "colab": {
          "base_uri": "https://localhost:8080/",
          "height": 269
        },
        "id": "f-wHBXVxCL6O",
        "outputId": "b81de959-c5e3-4562-8ded-bb7be547eb15"
      },
      "source": [
        "imp_df.sort_values(by=\"Imp\", ascending=False)"
      ],
      "execution_count": 89,
      "outputs": [
        {
          "output_type": "execute_result",
          "data": {
            "text/html": [
              "<div>\n",
              "<style scoped>\n",
              "    .dataframe tbody tr th:only-of-type {\n",
              "        vertical-align: middle;\n",
              "    }\n",
              "\n",
              "    .dataframe tbody tr th {\n",
              "        vertical-align: top;\n",
              "    }\n",
              "\n",
              "    .dataframe thead th {\n",
              "        text-align: right;\n",
              "    }\n",
              "</style>\n",
              "<table border=\"1\" class=\"dataframe\">\n",
              "  <thead>\n",
              "    <tr style=\"text-align: right;\">\n",
              "      <th></th>\n",
              "      <th>Varname</th>\n",
              "      <th>Imp</th>\n",
              "    </tr>\n",
              "  </thead>\n",
              "  <tbody>\n",
              "    <tr>\n",
              "      <th>1</th>\n",
              "      <td>Sex</td>\n",
              "      <td>0.402888</td>\n",
              "    </tr>\n",
              "    <tr>\n",
              "      <th>3</th>\n",
              "      <td>Cholesterol</td>\n",
              "      <td>0.352866</td>\n",
              "    </tr>\n",
              "    <tr>\n",
              "      <th>4</th>\n",
              "      <td>FastingBS</td>\n",
              "      <td>0.191470</td>\n",
              "    </tr>\n",
              "    <tr>\n",
              "      <th>2</th>\n",
              "      <td>RestingBP</td>\n",
              "      <td>0.052776</td>\n",
              "    </tr>\n",
              "    <tr>\n",
              "      <th>0</th>\n",
              "      <td>Age</td>\n",
              "      <td>0.000000</td>\n",
              "    </tr>\n",
              "    <tr>\n",
              "      <th>5</th>\n",
              "      <td>RestingECG</td>\n",
              "      <td>0.000000</td>\n",
              "    </tr>\n",
              "    <tr>\n",
              "      <th>6</th>\n",
              "      <td>MaxHR</td>\n",
              "      <td>0.000000</td>\n",
              "    </tr>\n",
              "  </tbody>\n",
              "</table>\n",
              "</div>"
            ],
            "text/plain": [
              "       Varname       Imp\n",
              "1          Sex  0.402888\n",
              "3  Cholesterol  0.352866\n",
              "4    FastingBS  0.191470\n",
              "2    RestingBP  0.052776\n",
              "0          Age  0.000000\n",
              "5   RestingECG  0.000000\n",
              "6        MaxHR  0.000000"
            ]
          },
          "metadata": {},
          "execution_count": 89
        }
      ]
    },
    {
      "cell_type": "markdown",
      "metadata": {
        "id": "zghcJGcxstke"
      },
      "source": [
        "## 2. Random Forest Model"
      ]
    },
    {
      "cell_type": "code",
      "metadata": {
        "id": "pr9L5BHuu5Ds"
      },
      "source": [
        "from sklearn.model_selection import train_test_split\n",
        "X_train, X_test, y_train, y_test = train_test_split(X,y,test_size=0.3,random_state=7)"
      ],
      "execution_count": 78,
      "outputs": []
    },
    {
      "cell_type": "code",
      "metadata": {
        "id": "aRp4d65psxiT"
      },
      "source": [
        "from sklearn.ensemble import RandomForestClassifier\n",
        "clf=RandomForestClassifier(n_estimators=100)\n",
        "clf.fit(X_train, y_train)\n",
        "\n",
        "y_pred=clf.predict(X_test)"
      ],
      "execution_count": 79,
      "outputs": []
    },
    {
      "cell_type": "code",
      "metadata": {
        "colab": {
          "base_uri": "https://localhost:8080/"
        },
        "id": "2SJifEniwSIE",
        "outputId": "6066a9a7-7658-477c-ae35-112378c8e7aa"
      },
      "source": [
        "#Import scikit-learn metrics module for accuracy calculation\n",
        "from sklearn import metrics\n",
        "print(\"Accuracy of train data:\",metrics.accuracy_score(y_train, clf.predict(X_train)))\n",
        "print(\"Accuracy of test data:\",metrics.accuracy_score(y_test, clf.predict(X_test)))"
      ],
      "execution_count": 80,
      "outputs": [
        {
          "output_type": "stream",
          "name": "stdout",
          "text": [
            "Accuracy of train data: 1.0\n",
            "Accuracy of test data: 0.7536231884057971\n"
          ]
        }
      ]
    },
    {
      "cell_type": "code",
      "metadata": {
        "colab": {
          "base_uri": "https://localhost:8080/"
        },
        "id": "vzQ22_B412lN",
        "outputId": "9ef7b6de-e944-4aae-dc4e-9145f4dc3018"
      },
      "source": [
        "from sklearn.metrics import classification_report, confusion_matrix\n",
        "print(confusion_matrix(y_test, clf.predict(X_test)))\n",
        "print(classification_report(y_test, clf.predict(X_test)))"
      ],
      "execution_count": 81,
      "outputs": [
        {
          "output_type": "stream",
          "name": "stdout",
          "text": [
            "[[ 88  40]\n",
            " [ 28 120]]\n",
            "              precision    recall  f1-score   support\n",
            "\n",
            "           0       0.76      0.69      0.72       128\n",
            "           1       0.75      0.81      0.78       148\n",
            "\n",
            "    accuracy                           0.75       276\n",
            "   macro avg       0.75      0.75      0.75       276\n",
            "weighted avg       0.75      0.75      0.75       276\n",
            "\n"
          ]
        }
      ]
    },
    {
      "cell_type": "code",
      "metadata": {
        "colab": {
          "base_uri": "https://localhost:8080/",
          "height": 355
        },
        "id": "GTexqglx3nZv",
        "outputId": "85f3fa06-db0e-4917-851f-9b19bab5b300"
      },
      "source": [
        "import matplotlib.pyplot as plt\n",
        "from sklearn.metrics import plot_confusion_matrix\n",
        "plot_confusion_matrix(clf, X_test, y_test)  \n",
        "#plt.show()"
      ],
      "execution_count": 82,
      "outputs": [
        {
          "output_type": "stream",
          "name": "stderr",
          "text": [
            "/usr/local/lib/python3.7/dist-packages/sklearn/utils/deprecation.py:87: FutureWarning: Function plot_confusion_matrix is deprecated; Function `plot_confusion_matrix` is deprecated in 1.0 and will be removed in 1.2. Use one of the class methods: ConfusionMatrixDisplay.from_predictions or ConfusionMatrixDisplay.from_estimator.\n",
            "  warnings.warn(msg, category=FutureWarning)\n"
          ]
        },
        {
          "output_type": "execute_result",
          "data": {
            "text/plain": [
              "<sklearn.metrics._plot.confusion_matrix.ConfusionMatrixDisplay at 0x7fc7bd001f50>"
            ]
          },
          "metadata": {},
          "execution_count": 82
        },
        {
          "output_type": "display_data",
          "data": {
            "image/png": "[encoded data removed]",
            "text/plain": [
              "<Figure size 432x288 with 2 Axes>"
            ]
          },
          "metadata": {
            "needs_background": "light"
          }
        }
      ]
    },
    {
      "cell_type": "code",
      "metadata": {
        "colab": {
          "base_uri": "https://localhost:8080/",
          "height": 265
        },
        "id": "beQTsqdCByxt",
        "outputId": "380bf248-1c51-479f-8363-32cef336ca2c"
      },
      "source": [
        "from sklearn.datasets import make_classification\n",
        "from sklearn.model_selection import train_test_split\n",
        "from sklearn.metrics import accuracy_score\n",
        "from sklearn.tree import DecisionTreeClassifier\n",
        "from matplotlib import pyplot\n",
        "\n",
        "# define lists to collect scores\n",
        "train_scores, test_scores = list(), list()\n",
        "# define the tree depths to evaluate\n",
        "values = [i for i in range(1, 21)]\n",
        "# evaluate a decision tree for each depth\n",
        "for i in values:\n",
        "\t# configure the model\n",
        "  clfm=RandomForestClassifier(n_estimators=100)\n",
        "  clfm.fit(X_train, y_train)\n",
        "\t# evaluate on the train dataset\n",
        "  train_yhat = clfm.predict(X_train)\n",
        "  train_acc = accuracy_score(y_train, train_yhat)\n",
        "  train_scores.append(train_acc)\n",
        "\t# evaluate on the test dataset\n",
        "  test_yhat = clfm.predict(X_test)\n",
        "  test_acc = accuracy_score(y_test, test_yhat)\n",
        "  test_scores.append(test_acc)\n",
        "  \n",
        "# plot of train and test scores vs tree depth\n",
        "pyplot.plot(values, train_scores, '-o', label='Train')\n",
        "pyplot.plot(values, test_scores, '-o', label='Test')\n",
        "pyplot.legend()\n",
        "pyplot.show()"
      ],
      "execution_count": 85,
      "outputs": [
        {
          "output_type": "display_data",
          "data": {
            "image/png": "[encoded data removed]",
            "text/plain": [
              "<Figure size 432x288 with 1 Axes>"
            ]
          },
          "metadata": {
            "needs_background": "light"
          }
        }
      ]
    },
    {
      "cell_type": "code",
      "metadata": {
        "id": "dhurc2--yvNw"
      },
      "source": [
        "imp_df = pd.DataFrame({\"Varname\" : X_train.columns, \"Imp\" : clf.feature_importances_})"
      ],
      "execution_count": 86,
      "outputs": []
    },
    {
      "cell_type": "code",
      "metadata": {
        "colab": {
          "base_uri": "https://localhost:8080/",
          "height": 269
        },
        "id": "V6qLxQC7zJcx",
        "outputId": "3ca33822-ff7f-4c73-e32b-3789203c2558"
      },
      "source": [
        "imp_df.sort_values(by=\"Imp\", ascending=False)"
      ],
      "execution_count": 87,
      "outputs": [
        {
          "output_type": "execute_result",
          "data": {
            "text/html": [
              "<div>\n",
              "<style scoped>\n",
              "    .dataframe tbody tr th:only-of-type {\n",
              "        vertical-align: middle;\n",
              "    }\n",
              "\n",
              "    .dataframe tbody tr th {\n",
              "        vertical-align: top;\n",
              "    }\n",
              "\n",
              "    .dataframe thead th {\n",
              "        text-align: right;\n",
              "    }\n",
              "</style>\n",
              "<table border=\"1\" class=\"dataframe\">\n",
              "  <thead>\n",
              "    <tr style=\"text-align: right;\">\n",
              "      <th></th>\n",
              "      <th>Varname</th>\n",
              "      <th>Imp</th>\n",
              "    </tr>\n",
              "  </thead>\n",
              "  <tbody>\n",
              "    <tr>\n",
              "      <th>6</th>\n",
              "      <td>MaxHR</td>\n",
              "      <td>0.272982</td>\n",
              "    </tr>\n",
              "    <tr>\n",
              "      <th>3</th>\n",
              "      <td>Cholesterol</td>\n",
              "      <td>0.232032</td>\n",
              "    </tr>\n",
              "    <tr>\n",
              "      <th>0</th>\n",
              "      <td>Age</td>\n",
              "      <td>0.205586</td>\n",
              "    </tr>\n",
              "    <tr>\n",
              "      <th>2</th>\n",
              "      <td>RestingBP</td>\n",
              "      <td>0.147725</td>\n",
              "    </tr>\n",
              "    <tr>\n",
              "      <th>1</th>\n",
              "      <td>Sex</td>\n",
              "      <td>0.056544</td>\n",
              "    </tr>\n",
              "    <tr>\n",
              "      <th>5</th>\n",
              "      <td>RestingECG</td>\n",
              "      <td>0.043018</td>\n",
              "    </tr>\n",
              "    <tr>\n",
              "      <th>4</th>\n",
              "      <td>FastingBS</td>\n",
              "      <td>0.042113</td>\n",
              "    </tr>\n",
              "  </tbody>\n",
              "</table>\n",
              "</div>"
            ],
            "text/plain": [
              "       Varname       Imp\n",
              "6        MaxHR  0.272982\n",
              "3  Cholesterol  0.232032\n",
              "0          Age  0.205586\n",
              "2    RestingBP  0.147725\n",
              "1          Sex  0.056544\n",
              "5   RestingECG  0.043018\n",
              "4    FastingBS  0.042113"
            ]
          },
          "metadata": {},
          "execution_count": 87
        }
      ]
    },
    {
      "cell_type": "markdown",
      "metadata": {
        "id": "DtXspODgy7g2"
      },
      "source": [
        "## Conclusion"
      ]
    },
    {
      "cell_type": "markdown",
      "metadata": {
        "id": "4ZOWVzl4zAg_"
      },
      "source": [
        "***The Random Forest Algorithm combines the output of multiple (randomly created) Decision Trees to generate the final output***. <br>\n",
        "\n",
        "\n",
        "Random forest leverages the power of multiple decision trees. It does not rely on the feature importance given by a single decision tree. That is why it performed better.\n"
      ]
    }
  ]
}